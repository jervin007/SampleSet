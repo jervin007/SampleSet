{
  "nbformat": 4,
  "nbformat_minor": 0,
  "metadata": {
    "colab": {
      "provenance": []
    },
    "kernelspec": {
      "name": "python3",
      "display_name": "Python 3"
    },
    "language_info": {
      "name": "python"
    }
  },
  "cells": [
    {
      "cell_type": "markdown",
      "source": [
        "# **Part 1: Retrieval-Augmented Generation (RAG) Model for QA Bot**"
      ],
      "metadata": {
        "id": "uEqcfANqZ-Ap"
      }
    },
    {
      "cell_type": "markdown",
      "source": [
        "**1. Setup**\n",
        "\n",
        "  1.1. Install Required Packages:\n",
        "\n",
        "Ensure you have the necessary packages installed in your environment. In a Colab notebook, you can install them with:\n"
      ],
      "metadata": {
        "id": "dRxwW42zXPQ2"
      }
    },
    {
      "cell_type": "code",
      "source": [
        "!pip install pinecone-client cohere transformers torch sentence_transformers"
      ],
      "metadata": {
        "colab": {
          "base_uri": "https://localhost:8080/"
        },
        "collapsed": true,
        "id": "5tVqnfUWC_Ee",
        "outputId": "1d28737c-76b2-432f-9e10-cbc12912c061"
      },
      "execution_count": 3,
      "outputs": [
        {
          "output_type": "stream",
          "name": "stdout",
          "text": [
            "Requirement already satisfied: pinecone-client in /usr/local/lib/python3.10/dist-packages (5.0.1)\n",
            "Requirement already satisfied: cohere in /usr/local/lib/python3.10/dist-packages (5.9.2)\n",
            "Requirement already satisfied: transformers in /usr/local/lib/python3.10/dist-packages (4.44.2)\n",
            "Requirement already satisfied: torch in /usr/local/lib/python3.10/dist-packages (2.4.0+cu121)\n",
            "Collecting sentence_transformers\n",
            "  Downloading sentence_transformers-3.1.0-py3-none-any.whl.metadata (23 kB)\n",
            "Requirement already satisfied: certifi>=2019.11.17 in /usr/local/lib/python3.10/dist-packages (from pinecone-client) (2024.8.30)\n",
            "Requirement already satisfied: pinecone-plugin-inference<2.0.0,>=1.0.3 in /usr/local/lib/python3.10/dist-packages (from pinecone-client) (1.1.0)\n",
            "Requirement already satisfied: pinecone-plugin-interface<0.0.8,>=0.0.7 in /usr/local/lib/python3.10/dist-packages (from pinecone-client) (0.0.7)\n",
            "Requirement already satisfied: tqdm>=4.64.1 in /usr/local/lib/python3.10/dist-packages (from pinecone-client) (4.66.5)\n",
            "Requirement already satisfied: typing-extensions>=3.7.4 in /usr/local/lib/python3.10/dist-packages (from pinecone-client) (4.12.2)\n",
            "Requirement already satisfied: urllib3>=1.26.0 in /usr/local/lib/python3.10/dist-packages (from pinecone-client) (2.0.7)\n",
            "Requirement already satisfied: boto3<2.0.0,>=1.34.0 in /usr/local/lib/python3.10/dist-packages (from cohere) (1.35.19)\n",
            "Requirement already satisfied: fastavro<2.0.0,>=1.9.4 in /usr/local/lib/python3.10/dist-packages (from cohere) (1.9.7)\n",
            "Requirement already satisfied: httpx>=0.21.2 in /usr/local/lib/python3.10/dist-packages (from cohere) (0.27.2)\n",
            "Requirement already satisfied: httpx-sse==0.4.0 in /usr/local/lib/python3.10/dist-packages (from cohere) (0.4.0)\n",
            "Requirement already satisfied: parameterized<0.10.0,>=0.9.0 in /usr/local/lib/python3.10/dist-packages (from cohere) (0.9.0)\n",
            "Requirement already satisfied: pydantic>=1.9.2 in /usr/local/lib/python3.10/dist-packages (from cohere) (2.9.1)\n",
            "Requirement already satisfied: pydantic-core<3.0.0,>=2.18.2 in /usr/local/lib/python3.10/dist-packages (from cohere) (2.23.3)\n",
            "Requirement already satisfied: requests<3.0.0,>=2.0.0 in /usr/local/lib/python3.10/dist-packages (from cohere) (2.32.3)\n",
            "Requirement already satisfied: tokenizers<1,>=0.15 in /usr/local/lib/python3.10/dist-packages (from cohere) (0.19.1)\n",
            "Requirement already satisfied: types-requests<3.0.0,>=2.0.0 in /usr/local/lib/python3.10/dist-packages (from cohere) (2.32.0.20240914)\n",
            "Requirement already satisfied: filelock in /usr/local/lib/python3.10/dist-packages (from transformers) (3.16.0)\n",
            "Requirement already satisfied: huggingface-hub<1.0,>=0.23.2 in /usr/local/lib/python3.10/dist-packages (from transformers) (0.24.6)\n",
            "Requirement already satisfied: numpy>=1.17 in /usr/local/lib/python3.10/dist-packages (from transformers) (1.26.4)\n",
            "Requirement already satisfied: packaging>=20.0 in /usr/local/lib/python3.10/dist-packages (from transformers) (24.1)\n",
            "Requirement already satisfied: pyyaml>=5.1 in /usr/local/lib/python3.10/dist-packages (from transformers) (6.0.2)\n",
            "Requirement already satisfied: regex!=2019.12.17 in /usr/local/lib/python3.10/dist-packages (from transformers) (2024.5.15)\n",
            "Requirement already satisfied: safetensors>=0.4.1 in /usr/local/lib/python3.10/dist-packages (from transformers) (0.4.5)\n",
            "Requirement already satisfied: sympy in /usr/local/lib/python3.10/dist-packages (from torch) (1.13.2)\n",
            "Requirement already satisfied: networkx in /usr/local/lib/python3.10/dist-packages (from torch) (3.3)\n",
            "Requirement already satisfied: jinja2 in /usr/local/lib/python3.10/dist-packages (from torch) (3.1.4)\n",
            "Requirement already satisfied: fsspec in /usr/local/lib/python3.10/dist-packages (from torch) (2024.6.1)\n",
            "Requirement already satisfied: scikit-learn in /usr/local/lib/python3.10/dist-packages (from sentence_transformers) (1.3.2)\n",
            "Requirement already satisfied: scipy in /usr/local/lib/python3.10/dist-packages (from sentence_transformers) (1.13.1)\n",
            "Requirement already satisfied: Pillow in /usr/local/lib/python3.10/dist-packages (from sentence_transformers) (9.4.0)\n",
            "Requirement already satisfied: botocore<1.36.0,>=1.35.19 in /usr/local/lib/python3.10/dist-packages (from boto3<2.0.0,>=1.34.0->cohere) (1.35.19)\n",
            "Requirement already satisfied: jmespath<2.0.0,>=0.7.1 in /usr/local/lib/python3.10/dist-packages (from boto3<2.0.0,>=1.34.0->cohere) (1.0.1)\n",
            "Requirement already satisfied: s3transfer<0.11.0,>=0.10.0 in /usr/local/lib/python3.10/dist-packages (from boto3<2.0.0,>=1.34.0->cohere) (0.10.2)\n",
            "Requirement already satisfied: anyio in /usr/local/lib/python3.10/dist-packages (from httpx>=0.21.2->cohere) (3.7.1)\n",
            "Requirement already satisfied: httpcore==1.* in /usr/local/lib/python3.10/dist-packages (from httpx>=0.21.2->cohere) (1.0.5)\n",
            "Requirement already satisfied: idna in /usr/local/lib/python3.10/dist-packages (from httpx>=0.21.2->cohere) (3.8)\n",
            "Requirement already satisfied: sniffio in /usr/local/lib/python3.10/dist-packages (from httpx>=0.21.2->cohere) (1.3.1)\n",
            "Requirement already satisfied: h11<0.15,>=0.13 in /usr/local/lib/python3.10/dist-packages (from httpcore==1.*->httpx>=0.21.2->cohere) (0.14.0)\n",
            "Requirement already satisfied: annotated-types>=0.6.0 in /usr/local/lib/python3.10/dist-packages (from pydantic>=1.9.2->cohere) (0.7.0)\n",
            "Requirement already satisfied: charset-normalizer<4,>=2 in /usr/local/lib/python3.10/dist-packages (from requests<3.0.0,>=2.0.0->cohere) (3.3.2)\n",
            "Requirement already satisfied: MarkupSafe>=2.0 in /usr/local/lib/python3.10/dist-packages (from jinja2->torch) (2.1.5)\n",
            "Requirement already satisfied: joblib>=1.1.1 in /usr/local/lib/python3.10/dist-packages (from scikit-learn->sentence_transformers) (1.4.2)\n",
            "Requirement already satisfied: threadpoolctl>=2.0.0 in /usr/local/lib/python3.10/dist-packages (from scikit-learn->sentence_transformers) (3.5.0)\n",
            "Requirement already satisfied: mpmath<1.4,>=1.1.0 in /usr/local/lib/python3.10/dist-packages (from sympy->torch) (1.3.0)\n",
            "Requirement already satisfied: python-dateutil<3.0.0,>=2.1 in /usr/local/lib/python3.10/dist-packages (from botocore<1.36.0,>=1.35.19->boto3<2.0.0,>=1.34.0->cohere) (2.8.2)\n",
            "Requirement already satisfied: exceptiongroup in /usr/local/lib/python3.10/dist-packages (from anyio->httpx>=0.21.2->cohere) (1.2.2)\n",
            "Requirement already satisfied: six>=1.5 in /usr/local/lib/python3.10/dist-packages (from python-dateutil<3.0.0,>=2.1->botocore<1.36.0,>=1.35.19->boto3<2.0.0,>=1.34.0->cohere) (1.16.0)\n",
            "Downloading sentence_transformers-3.1.0-py3-none-any.whl (249 kB)\n",
            "\u001b[2K   \u001b[90m━━━━━━━━━━━━━━━━━━━━━━━━━━━━━━━━━━━━━━━━\u001b[0m \u001b[32m249.1/249.1 kB\u001b[0m \u001b[31m1.9 MB/s\u001b[0m eta \u001b[36m0:00:00\u001b[0m\n",
            "\u001b[?25hInstalling collected packages: sentence_transformers\n",
            "Successfully installed sentence_transformers-3.1.0\n"
          ]
        }
      ]
    },
    {
      "cell_type": "markdown",
      "source": [
        "**2. Implementation**\n",
        "\n",
        "  2.1. Import Libraries and Initialize Clients:\n",
        "\n",
        "Here is the setup code for initializing Pinecone and Cohere, and creating the Pinecone index:"
      ],
      "metadata": {
        "id": "QrZJf6WMXojx"
      }
    },
    {
      "cell_type": "code",
      "execution_count": 59,
      "metadata": {
        "id": "CeGbXXXBC0Ls"
      },
      "outputs": [],
      "source": [
        "import os\n",
        "import pinecone\n",
        "import cohere\n",
        "from sentence_transformers import SentenceTransformer\n",
        "\n",
        "# Initialize Pinecone\n",
        "PINECONE_API_KEY = 'b721a214-40de-4d60-8bad-3bde53993f69'\n",
        "index_name = 'document-embeddings'\n",
        "\n",
        "\n",
        "pc = pinecone.Pinecone(api_key=PINECONE_API_KEY, environment='us-east1-gcp')\n",
        "\n",
        "if index_name in pc.list_indexes().names():\n",
        "    pc.delete_index(index_name)\n",
        "\n",
        "pc.create_index(\n",
        "    name=index_name,\n",
        "    dimension=768,\n",
        "    metric='cosine',\n",
        "    spec=pinecone.ServerlessSpec(\n",
        "        cloud='aws',\n",
        "        region='us-east-1'\n",
        "    )\n",
        ")\n",
        "\n",
        "\n",
        "index = pc.Index(index_name)\n",
        "co = cohere.Client('TQAd3TLLohrdBX62wKTfR7pI935gypXwC8Ifp6eL')\n",
        "\n",
        "model_name = 'sentence-transformers/all-distilroberta-v1'\n",
        "model = SentenceTransformer(model_name)\n",
        "\n"
      ]
    },
    {
      "cell_type": "markdown",
      "source": [
        "2.2. Data Ingestion and Embedding Generation:\n",
        "\n",
        "You need to generate embeddings for your documents and store them in Pinecone:"
      ],
      "metadata": {
        "id": "0emfUexhYBQp"
      }
    },
    {
      "cell_type": "code",
      "source": [
        "documents = [\n",
        "    \"Our company offers SaaS products to small businesses. We specialize in accounting software.\",\n",
        "    \"We provide 24/7 customer support through live chat and phone services.\",\n",
        "    \"Our pricing model includes monthly subscriptions and annual plans with discounts.\"\n",
        "]\n",
        "\n",
        "document_embeddings = model.encode(documents)\n",
        "\n",
        "for i, (doc, embedding) in enumerate(zip(documents, document_embeddings)):\n",
        "    index.upsert([(f'doc_{i}', embedding.tolist(), {\"text\": doc})])\n",
        "\n",
        "print(f\"Inserted {len(documents)} documents into Pinecone.\")\n"
      ],
      "metadata": {
        "colab": {
          "base_uri": "https://localhost:8080/"
        },
        "id": "4_gK2tXHX665",
        "outputId": "ad8eb7c5-19e0-4f90-d0a5-ac47ec06d9d2"
      },
      "execution_count": 60,
      "outputs": [
        {
          "output_type": "stream",
          "name": "stdout",
          "text": [
            "Inserted 3 documents into Pinecone.\n"
          ]
        }
      ]
    },
    {
      "cell_type": "markdown",
      "source": [
        "2.3. Query Embedding and Retrieval:\n",
        "\n",
        "Create a function to handle user queries, retrieve relevant documents from Pinecone, and generate answers using Cohere:"
      ],
      "metadata": {
        "id": "hOONRdbNYTXJ"
      }
    },
    {
      "cell_type": "code",
      "source": [
        "def retrieve_and_generate_answer(query):\n",
        "\n",
        "    query_embedding = model.encode([query])[0].tolist()\n",
        "\n",
        "\n",
        "    results = index.query(\n",
        "        vector=query_embedding,\n",
        "        top_k=5,\n",
        "        include_metadata=True\n",
        "    )\n",
        "\n",
        "\n",
        "    contexts = [match['id'] for match in results['matches']]\n",
        "\n",
        "\n",
        "    documents = []\n",
        "    for doc_id in contexts:\n",
        "        fetch_result = index.fetch(ids=[doc_id])\n",
        "        doc_data = fetch_result['vectors'].get(doc_id, {})\n",
        "        documents.append(doc_data.get('metadata', {}).get('text', ''))\n",
        "\n",
        "\n",
        "    prompt = \"\\n\".join(documents) + f\"\\n\\nQuestion: {query}\\nAnswer:\"\n",
        "\n",
        "\n",
        "    response = co.generate(\n",
        "        model='command-xlarge-nightly',\n",
        "        prompt=prompt,\n",
        "        max_tokens=300,\n",
        "        temperature=0.5\n",
        "    ).generations[0].text\n",
        "\n",
        "    return response.strip()"
      ],
      "metadata": {
        "id": "6EB_Gu9pYSbQ"
      },
      "execution_count": 61,
      "outputs": []
    },
    {
      "cell_type": "markdown",
      "source": [
        "**3. Testing the Model**\n",
        "\n",
        "Test the implementation with example queries:"
      ],
      "metadata": {
        "id": "4MALX3p9Ygc9"
      }
    },
    {
      "cell_type": "code",
      "source": [
        "queries = [\n",
        "    \"What kind of products does your company offer?\",\n",
        "    \"How does your pricing model work?\",\n",
        "    \"What type of customer support do you provide?\"\n",
        "]\n",
        "\n",
        "for query in queries:\n",
        "    try:\n",
        "        answer = retrieve_and_generate_answer(query)\n",
        "        print(f\"Question: {query}\\nAnswer: {answer}\\n{'='*50}\")\n",
        "    except Exception as e:\n",
        "        print(f\"Error processing query '{query}': {e}\")"
      ],
      "metadata": {
        "colab": {
          "base_uri": "https://localhost:8080/"
        },
        "id": "OjPVgHWIYf4R",
        "outputId": "e58b7796-2a3f-4009-eef2-ac483db9d883"
      },
      "execution_count": 62,
      "outputs": [
        {
          "output_type": "stream",
          "name": "stdout",
          "text": [
            "Question: What kind of products does your company offer?\n",
            "Answer: The company offers Software as a Service (SaaS) products, specifically tailored to the needs of small businesses. The primary focus is on accounting software, which is a crucial tool for any business to manage its finances effectively. By providing SaaS products, the company ensures that small businesses can access and utilize advanced accounting solutions without the need for extensive in-house IT infrastructure. \n",
            "\n",
            "Additionally, the company's offering goes beyond just the product itself, as it also emphasizes customer support. With 24/7 availability through live chat and phone services, they ensure that their clients can receive assistance whenever needed, providing peace of mind and quick resolution to any issues that may arise. This level of support is particularly valuable for small businesses that might not have dedicated IT or accounting teams to handle software-related problems. \n",
            "\n",
            "In terms of pricing, the company offers flexibility with monthly subscription plans, allowing businesses to pay as they go and scale their usage accordingly. They also provide the option of annual plans, often accompanied by discounts, which can be more cost-effective for long-term users. This pricing model caters to different business preferences and financial strategies, making the accounting software accessible and affordable for small businesses with varying budgets.\n",
            "==================================================\n",
            "Question: How does your pricing model work?\n",
            "Answer: Our pricing model is designed to cater to the needs of small businesses seeking affordable and efficient accounting solutions. We offer a straightforward and flexible pricing structure with options for monthly subscriptions and annual commitments. \n",
            "\n",
            "For monthly subscriptions, customers can choose from several plans tailored to their business size and requirements. Each plan provides access to our core SaaS accounting features, with options to add on additional services or increase user limits as needed. This monthly model allows businesses to manage their expenses effectively, especially those with more variable cash flows, as they can adjust their subscription according to their current needs.\n",
            "\n",
            "To encourage long-term partnerships and provide cost savings to our customers, we also offer discounted annual plans. By committing to a 12-month subscription, businesses can benefit from reduced monthly rates, often resulting in significant savings compared to the monthly subscription equivalent. Annual plans are a great choice for established businesses with consistent accounting demands, as they can lock in a lower rate and enjoy uninterrupted access to our services.\n",
            "\n",
            "Additionally, regardless of the pricing plan chosen, all our customers receive the same high level of support. We understand that accounting software can sometimes be complex, so we provide 24/7 customer assistance through live chat and phone services. Our support team is always ready to help with any technical issues, answer questions about the software's functionality, or guide you through specific accounting processes. \n",
            "\n",
            "With our transparent and flexible pricing model, small businesses can select the most suitable plan and have peace of mind knowing that\n",
            "==================================================\n",
            "Question: What type of customer support do you provide?\n",
            "Answer: The customer support provided is 24/7 live chat and phone services. This ensures that small business clients using the company's accounting software have access to assistance at any time, which is crucial for maintaining smooth operations and addressing any technical or user-related issues promptly. The company's commitment to customer support is a key aspect of its SaaS offerings, aiming to provide a comprehensive and reliable service.\n",
            "==================================================\n"
          ]
        }
      ]
    }
  ]
}